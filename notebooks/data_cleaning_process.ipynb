{
 "cells": [
  {
   "cell_type": "code",
   "execution_count": 107,
   "id": "203330ba",
   "metadata": {},
   "outputs": [],
   "source": [
    "import pandas as pd\n",
    "import numpy as np\n",
    "import matplotlib.pyplot as plt\n",
    "import seaborn as sns\n",
    "from datetime import datetime\n",
    "import warnings\n",
    "warnings.filterwarnings('ignore')"
   ]
  },
  {
   "cell_type": "code",
   "execution_count": 108,
   "id": "ccb5f2d9",
   "metadata": {},
   "outputs": [],
   "source": [
    "df = pd.read_csv('C:/Users/ASUS VIVOBOOK S16/Desktop/0317/data/hotel_bookings.csv')"
   ]
  },
  {
   "cell_type": "code",
   "execution_count": 109,
   "id": "243789ea",
   "metadata": {},
   "outputs": [
    {
     "data": {
      "text/plain": [
       "(119390, 32)"
      ]
     },
     "execution_count": 109,
     "metadata": {},
     "output_type": "execute_result"
    }
   ],
   "source": [
    "# Step 2: Display shape of the dataset (rows, columns)\n",
    "df.shape"
   ]
  },
  {
   "cell_type": "code",
   "execution_count": 110,
   "id": "557798f2",
   "metadata": {},
   "outputs": [
    {
     "data": {
      "text/plain": [
       "hotel                              object\n",
       "is_canceled                         int64\n",
       "lead_time                           int64\n",
       "arrival_date_year                   int64\n",
       "arrival_date_month                 object\n",
       "arrival_date_week_number            int64\n",
       "arrival_date_day_of_month           int64\n",
       "stays_in_weekend_nights             int64\n",
       "stays_in_week_nights                int64\n",
       "adults                              int64\n",
       "children                          float64\n",
       "babies                              int64\n",
       "meal                               object\n",
       "country                            object\n",
       "market_segment                     object\n",
       "distribution_channel               object\n",
       "is_repeated_guest                   int64\n",
       "previous_cancellations              int64\n",
       "previous_bookings_not_canceled      int64\n",
       "reserved_room_type                 object\n",
       "assigned_room_type                 object\n",
       "booking_changes                     int64\n",
       "deposit_type                       object\n",
       "agent                             float64\n",
       "company                           float64\n",
       "days_in_waiting_list                int64\n",
       "customer_type                      object\n",
       "adr                               float64\n",
       "required_car_parking_spaces         int64\n",
       "total_of_special_requests           int64\n",
       "reservation_status                 object\n",
       "reservation_status_date            object\n",
       "dtype: object"
      ]
     },
     "execution_count": 110,
     "metadata": {},
     "output_type": "execute_result"
    }
   ],
   "source": [
    "# Step 3: Display data types of each column\n",
    "df.dtypes"
   ]
  },
  {
   "cell_type": "code",
   "execution_count": 111,
   "id": "24f0a142",
   "metadata": {},
   "outputs": [
    {
     "data": {
      "text/html": [
       "<div>\n",
       "<style scoped>\n",
       "    .dataframe tbody tr th:only-of-type {\n",
       "        vertical-align: middle;\n",
       "    }\n",
       "\n",
       "    .dataframe tbody tr th {\n",
       "        vertical-align: top;\n",
       "    }\n",
       "\n",
       "    .dataframe thead th {\n",
       "        text-align: right;\n",
       "    }\n",
       "</style>\n",
       "<table border=\"1\" class=\"dataframe\">\n",
       "  <thead>\n",
       "    <tr style=\"text-align: right;\">\n",
       "      <th></th>\n",
       "      <th>hotel</th>\n",
       "      <th>is_canceled</th>\n",
       "      <th>lead_time</th>\n",
       "      <th>arrival_date_year</th>\n",
       "      <th>arrival_date_month</th>\n",
       "      <th>arrival_date_week_number</th>\n",
       "      <th>arrival_date_day_of_month</th>\n",
       "      <th>stays_in_weekend_nights</th>\n",
       "      <th>stays_in_week_nights</th>\n",
       "      <th>adults</th>\n",
       "      <th>...</th>\n",
       "      <th>deposit_type</th>\n",
       "      <th>agent</th>\n",
       "      <th>company</th>\n",
       "      <th>days_in_waiting_list</th>\n",
       "      <th>customer_type</th>\n",
       "      <th>adr</th>\n",
       "      <th>required_car_parking_spaces</th>\n",
       "      <th>total_of_special_requests</th>\n",
       "      <th>reservation_status</th>\n",
       "      <th>reservation_status_date</th>\n",
       "    </tr>\n",
       "  </thead>\n",
       "  <tbody>\n",
       "    <tr>\n",
       "      <th>0</th>\n",
       "      <td>Resort Hotel</td>\n",
       "      <td>0</td>\n",
       "      <td>342</td>\n",
       "      <td>2015</td>\n",
       "      <td>July</td>\n",
       "      <td>27</td>\n",
       "      <td>1</td>\n",
       "      <td>0</td>\n",
       "      <td>0</td>\n",
       "      <td>2</td>\n",
       "      <td>...</td>\n",
       "      <td>No Deposit</td>\n",
       "      <td>NaN</td>\n",
       "      <td>NaN</td>\n",
       "      <td>0</td>\n",
       "      <td>Transient</td>\n",
       "      <td>0.0</td>\n",
       "      <td>0</td>\n",
       "      <td>0</td>\n",
       "      <td>Check-Out</td>\n",
       "      <td>2015-07-01</td>\n",
       "    </tr>\n",
       "    <tr>\n",
       "      <th>1</th>\n",
       "      <td>Resort Hotel</td>\n",
       "      <td>0</td>\n",
       "      <td>737</td>\n",
       "      <td>2015</td>\n",
       "      <td>July</td>\n",
       "      <td>27</td>\n",
       "      <td>1</td>\n",
       "      <td>0</td>\n",
       "      <td>0</td>\n",
       "      <td>2</td>\n",
       "      <td>...</td>\n",
       "      <td>No Deposit</td>\n",
       "      <td>NaN</td>\n",
       "      <td>NaN</td>\n",
       "      <td>0</td>\n",
       "      <td>Transient</td>\n",
       "      <td>0.0</td>\n",
       "      <td>0</td>\n",
       "      <td>0</td>\n",
       "      <td>Check-Out</td>\n",
       "      <td>2015-07-01</td>\n",
       "    </tr>\n",
       "    <tr>\n",
       "      <th>2</th>\n",
       "      <td>Resort Hotel</td>\n",
       "      <td>0</td>\n",
       "      <td>7</td>\n",
       "      <td>2015</td>\n",
       "      <td>July</td>\n",
       "      <td>27</td>\n",
       "      <td>1</td>\n",
       "      <td>0</td>\n",
       "      <td>1</td>\n",
       "      <td>1</td>\n",
       "      <td>...</td>\n",
       "      <td>No Deposit</td>\n",
       "      <td>NaN</td>\n",
       "      <td>NaN</td>\n",
       "      <td>0</td>\n",
       "      <td>Transient</td>\n",
       "      <td>75.0</td>\n",
       "      <td>0</td>\n",
       "      <td>0</td>\n",
       "      <td>Check-Out</td>\n",
       "      <td>2015-07-02</td>\n",
       "    </tr>\n",
       "    <tr>\n",
       "      <th>3</th>\n",
       "      <td>Resort Hotel</td>\n",
       "      <td>0</td>\n",
       "      <td>13</td>\n",
       "      <td>2015</td>\n",
       "      <td>July</td>\n",
       "      <td>27</td>\n",
       "      <td>1</td>\n",
       "      <td>0</td>\n",
       "      <td>1</td>\n",
       "      <td>1</td>\n",
       "      <td>...</td>\n",
       "      <td>No Deposit</td>\n",
       "      <td>304.0</td>\n",
       "      <td>NaN</td>\n",
       "      <td>0</td>\n",
       "      <td>Transient</td>\n",
       "      <td>75.0</td>\n",
       "      <td>0</td>\n",
       "      <td>0</td>\n",
       "      <td>Check-Out</td>\n",
       "      <td>2015-07-02</td>\n",
       "    </tr>\n",
       "    <tr>\n",
       "      <th>4</th>\n",
       "      <td>Resort Hotel</td>\n",
       "      <td>0</td>\n",
       "      <td>14</td>\n",
       "      <td>2015</td>\n",
       "      <td>July</td>\n",
       "      <td>27</td>\n",
       "      <td>1</td>\n",
       "      <td>0</td>\n",
       "      <td>2</td>\n",
       "      <td>2</td>\n",
       "      <td>...</td>\n",
       "      <td>No Deposit</td>\n",
       "      <td>240.0</td>\n",
       "      <td>NaN</td>\n",
       "      <td>0</td>\n",
       "      <td>Transient</td>\n",
       "      <td>98.0</td>\n",
       "      <td>0</td>\n",
       "      <td>1</td>\n",
       "      <td>Check-Out</td>\n",
       "      <td>2015-07-03</td>\n",
       "    </tr>\n",
       "  </tbody>\n",
       "</table>\n",
       "<p>5 rows × 32 columns</p>\n",
       "</div>"
      ],
      "text/plain": [
       "          hotel  is_canceled  lead_time  arrival_date_year arrival_date_month  \\\n",
       "0  Resort Hotel            0        342               2015               July   \n",
       "1  Resort Hotel            0        737               2015               July   \n",
       "2  Resort Hotel            0          7               2015               July   \n",
       "3  Resort Hotel            0         13               2015               July   \n",
       "4  Resort Hotel            0         14               2015               July   \n",
       "\n",
       "   arrival_date_week_number  arrival_date_day_of_month  \\\n",
       "0                        27                          1   \n",
       "1                        27                          1   \n",
       "2                        27                          1   \n",
       "3                        27                          1   \n",
       "4                        27                          1   \n",
       "\n",
       "   stays_in_weekend_nights  stays_in_week_nights  adults  ...  deposit_type  \\\n",
       "0                        0                     0       2  ...    No Deposit   \n",
       "1                        0                     0       2  ...    No Deposit   \n",
       "2                        0                     1       1  ...    No Deposit   \n",
       "3                        0                     1       1  ...    No Deposit   \n",
       "4                        0                     2       2  ...    No Deposit   \n",
       "\n",
       "   agent company days_in_waiting_list customer_type   adr  \\\n",
       "0    NaN     NaN                    0     Transient   0.0   \n",
       "1    NaN     NaN                    0     Transient   0.0   \n",
       "2    NaN     NaN                    0     Transient  75.0   \n",
       "3  304.0     NaN                    0     Transient  75.0   \n",
       "4  240.0     NaN                    0     Transient  98.0   \n",
       "\n",
       "   required_car_parking_spaces  total_of_special_requests  reservation_status  \\\n",
       "0                            0                          0           Check-Out   \n",
       "1                            0                          0           Check-Out   \n",
       "2                            0                          0           Check-Out   \n",
       "3                            0                          0           Check-Out   \n",
       "4                            0                          1           Check-Out   \n",
       "\n",
       "  reservation_status_date  \n",
       "0              2015-07-01  \n",
       "1              2015-07-01  \n",
       "2              2015-07-02  \n",
       "3              2015-07-02  \n",
       "4              2015-07-03  \n",
       "\n",
       "[5 rows x 32 columns]"
      ]
     },
     "execution_count": 111,
     "metadata": {},
     "output_type": "execute_result"
    }
   ],
   "source": [
    "# Step 4: Display first 5 rows\n",
    "df.head()"
   ]
  },
  {
   "cell_type": "code",
   "execution_count": 112,
   "id": "4a7bf8e2",
   "metadata": {},
   "outputs": [
    {
     "data": {
      "text/html": [
       "<div>\n",
       "<style scoped>\n",
       "    .dataframe tbody tr th:only-of-type {\n",
       "        vertical-align: middle;\n",
       "    }\n",
       "\n",
       "    .dataframe tbody tr th {\n",
       "        vertical-align: top;\n",
       "    }\n",
       "\n",
       "    .dataframe thead th {\n",
       "        text-align: right;\n",
       "    }\n",
       "</style>\n",
       "<table border=\"1\" class=\"dataframe\">\n",
       "  <thead>\n",
       "    <tr style=\"text-align: right;\">\n",
       "      <th></th>\n",
       "      <th>hotel</th>\n",
       "      <th>is_canceled</th>\n",
       "      <th>lead_time</th>\n",
       "      <th>arrival_date_year</th>\n",
       "      <th>arrival_date_month</th>\n",
       "      <th>arrival_date_week_number</th>\n",
       "      <th>arrival_date_day_of_month</th>\n",
       "      <th>stays_in_weekend_nights</th>\n",
       "      <th>stays_in_week_nights</th>\n",
       "      <th>adults</th>\n",
       "      <th>...</th>\n",
       "      <th>deposit_type</th>\n",
       "      <th>agent</th>\n",
       "      <th>company</th>\n",
       "      <th>days_in_waiting_list</th>\n",
       "      <th>customer_type</th>\n",
       "      <th>adr</th>\n",
       "      <th>required_car_parking_spaces</th>\n",
       "      <th>total_of_special_requests</th>\n",
       "      <th>reservation_status</th>\n",
       "      <th>reservation_status_date</th>\n",
       "    </tr>\n",
       "  </thead>\n",
       "  <tbody>\n",
       "    <tr>\n",
       "      <th>119385</th>\n",
       "      <td>City Hotel</td>\n",
       "      <td>0</td>\n",
       "      <td>23</td>\n",
       "      <td>2017</td>\n",
       "      <td>August</td>\n",
       "      <td>35</td>\n",
       "      <td>30</td>\n",
       "      <td>2</td>\n",
       "      <td>5</td>\n",
       "      <td>2</td>\n",
       "      <td>...</td>\n",
       "      <td>No Deposit</td>\n",
       "      <td>394.0</td>\n",
       "      <td>NaN</td>\n",
       "      <td>0</td>\n",
       "      <td>Transient</td>\n",
       "      <td>96.14</td>\n",
       "      <td>0</td>\n",
       "      <td>0</td>\n",
       "      <td>Check-Out</td>\n",
       "      <td>2017-09-06</td>\n",
       "    </tr>\n",
       "    <tr>\n",
       "      <th>119386</th>\n",
       "      <td>City Hotel</td>\n",
       "      <td>0</td>\n",
       "      <td>102</td>\n",
       "      <td>2017</td>\n",
       "      <td>August</td>\n",
       "      <td>35</td>\n",
       "      <td>31</td>\n",
       "      <td>2</td>\n",
       "      <td>5</td>\n",
       "      <td>3</td>\n",
       "      <td>...</td>\n",
       "      <td>No Deposit</td>\n",
       "      <td>9.0</td>\n",
       "      <td>NaN</td>\n",
       "      <td>0</td>\n",
       "      <td>Transient</td>\n",
       "      <td>225.43</td>\n",
       "      <td>0</td>\n",
       "      <td>2</td>\n",
       "      <td>Check-Out</td>\n",
       "      <td>2017-09-07</td>\n",
       "    </tr>\n",
       "    <tr>\n",
       "      <th>119387</th>\n",
       "      <td>City Hotel</td>\n",
       "      <td>0</td>\n",
       "      <td>34</td>\n",
       "      <td>2017</td>\n",
       "      <td>August</td>\n",
       "      <td>35</td>\n",
       "      <td>31</td>\n",
       "      <td>2</td>\n",
       "      <td>5</td>\n",
       "      <td>2</td>\n",
       "      <td>...</td>\n",
       "      <td>No Deposit</td>\n",
       "      <td>9.0</td>\n",
       "      <td>NaN</td>\n",
       "      <td>0</td>\n",
       "      <td>Transient</td>\n",
       "      <td>157.71</td>\n",
       "      <td>0</td>\n",
       "      <td>4</td>\n",
       "      <td>Check-Out</td>\n",
       "      <td>2017-09-07</td>\n",
       "    </tr>\n",
       "    <tr>\n",
       "      <th>119388</th>\n",
       "      <td>City Hotel</td>\n",
       "      <td>0</td>\n",
       "      <td>109</td>\n",
       "      <td>2017</td>\n",
       "      <td>August</td>\n",
       "      <td>35</td>\n",
       "      <td>31</td>\n",
       "      <td>2</td>\n",
       "      <td>5</td>\n",
       "      <td>2</td>\n",
       "      <td>...</td>\n",
       "      <td>No Deposit</td>\n",
       "      <td>89.0</td>\n",
       "      <td>NaN</td>\n",
       "      <td>0</td>\n",
       "      <td>Transient</td>\n",
       "      <td>104.40</td>\n",
       "      <td>0</td>\n",
       "      <td>0</td>\n",
       "      <td>Check-Out</td>\n",
       "      <td>2017-09-07</td>\n",
       "    </tr>\n",
       "    <tr>\n",
       "      <th>119389</th>\n",
       "      <td>City Hotel</td>\n",
       "      <td>0</td>\n",
       "      <td>205</td>\n",
       "      <td>2017</td>\n",
       "      <td>August</td>\n",
       "      <td>35</td>\n",
       "      <td>29</td>\n",
       "      <td>2</td>\n",
       "      <td>7</td>\n",
       "      <td>2</td>\n",
       "      <td>...</td>\n",
       "      <td>No Deposit</td>\n",
       "      <td>9.0</td>\n",
       "      <td>NaN</td>\n",
       "      <td>0</td>\n",
       "      <td>Transient</td>\n",
       "      <td>151.20</td>\n",
       "      <td>0</td>\n",
       "      <td>2</td>\n",
       "      <td>Check-Out</td>\n",
       "      <td>2017-09-07</td>\n",
       "    </tr>\n",
       "  </tbody>\n",
       "</table>\n",
       "<p>5 rows × 32 columns</p>\n",
       "</div>"
      ],
      "text/plain": [
       "             hotel  is_canceled  lead_time  arrival_date_year  \\\n",
       "119385  City Hotel            0         23               2017   \n",
       "119386  City Hotel            0        102               2017   \n",
       "119387  City Hotel            0         34               2017   \n",
       "119388  City Hotel            0        109               2017   \n",
       "119389  City Hotel            0        205               2017   \n",
       "\n",
       "       arrival_date_month  arrival_date_week_number  \\\n",
       "119385             August                        35   \n",
       "119386             August                        35   \n",
       "119387             August                        35   \n",
       "119388             August                        35   \n",
       "119389             August                        35   \n",
       "\n",
       "        arrival_date_day_of_month  stays_in_weekend_nights  \\\n",
       "119385                         30                        2   \n",
       "119386                         31                        2   \n",
       "119387                         31                        2   \n",
       "119388                         31                        2   \n",
       "119389                         29                        2   \n",
       "\n",
       "        stays_in_week_nights  adults  ...  deposit_type  agent company  \\\n",
       "119385                     5       2  ...    No Deposit  394.0     NaN   \n",
       "119386                     5       3  ...    No Deposit    9.0     NaN   \n",
       "119387                     5       2  ...    No Deposit    9.0     NaN   \n",
       "119388                     5       2  ...    No Deposit   89.0     NaN   \n",
       "119389                     7       2  ...    No Deposit    9.0     NaN   \n",
       "\n",
       "       days_in_waiting_list customer_type     adr  \\\n",
       "119385                    0     Transient   96.14   \n",
       "119386                    0     Transient  225.43   \n",
       "119387                    0     Transient  157.71   \n",
       "119388                    0     Transient  104.40   \n",
       "119389                    0     Transient  151.20   \n",
       "\n",
       "        required_car_parking_spaces  total_of_special_requests  \\\n",
       "119385                            0                          0   \n",
       "119386                            0                          2   \n",
       "119387                            0                          4   \n",
       "119388                            0                          0   \n",
       "119389                            0                          2   \n",
       "\n",
       "        reservation_status reservation_status_date  \n",
       "119385           Check-Out              2017-09-06  \n",
       "119386           Check-Out              2017-09-07  \n",
       "119387           Check-Out              2017-09-07  \n",
       "119388           Check-Out              2017-09-07  \n",
       "119389           Check-Out              2017-09-07  \n",
       "\n",
       "[5 rows x 32 columns]"
      ]
     },
     "execution_count": 112,
     "metadata": {},
     "output_type": "execute_result"
    }
   ],
   "source": [
    "# Step 5: Display last 5 rows\n",
    "df.tail()"
   ]
  },
  {
   "cell_type": "code",
   "execution_count": 113,
   "id": "00ee80e1",
   "metadata": {},
   "outputs": [
    {
     "data": {
      "text/html": [
       "<div>\n",
       "<style scoped>\n",
       "    .dataframe tbody tr th:only-of-type {\n",
       "        vertical-align: middle;\n",
       "    }\n",
       "\n",
       "    .dataframe tbody tr th {\n",
       "        vertical-align: top;\n",
       "    }\n",
       "\n",
       "    .dataframe thead th {\n",
       "        text-align: right;\n",
       "    }\n",
       "</style>\n",
       "<table border=\"1\" class=\"dataframe\">\n",
       "  <thead>\n",
       "    <tr style=\"text-align: right;\">\n",
       "      <th></th>\n",
       "      <th>hotel</th>\n",
       "      <th>is_canceled</th>\n",
       "      <th>lead_time</th>\n",
       "      <th>arrival_date_year</th>\n",
       "      <th>arrival_date_month</th>\n",
       "      <th>arrival_date_week_number</th>\n",
       "      <th>arrival_date_day_of_month</th>\n",
       "      <th>stays_in_weekend_nights</th>\n",
       "      <th>stays_in_week_nights</th>\n",
       "      <th>adults</th>\n",
       "      <th>...</th>\n",
       "      <th>deposit_type</th>\n",
       "      <th>agent</th>\n",
       "      <th>company</th>\n",
       "      <th>days_in_waiting_list</th>\n",
       "      <th>customer_type</th>\n",
       "      <th>adr</th>\n",
       "      <th>required_car_parking_spaces</th>\n",
       "      <th>total_of_special_requests</th>\n",
       "      <th>reservation_status</th>\n",
       "      <th>reservation_status_date</th>\n",
       "    </tr>\n",
       "  </thead>\n",
       "  <tbody>\n",
       "    <tr>\n",
       "      <th>count</th>\n",
       "      <td>119390</td>\n",
       "      <td>119390.000000</td>\n",
       "      <td>119390.000000</td>\n",
       "      <td>119390.000000</td>\n",
       "      <td>119390</td>\n",
       "      <td>119390.000000</td>\n",
       "      <td>119390.000000</td>\n",
       "      <td>119390.000000</td>\n",
       "      <td>119390.000000</td>\n",
       "      <td>119390.000000</td>\n",
       "      <td>...</td>\n",
       "      <td>119390</td>\n",
       "      <td>103050.000000</td>\n",
       "      <td>6797.000000</td>\n",
       "      <td>119390.000000</td>\n",
       "      <td>119390</td>\n",
       "      <td>119390.000000</td>\n",
       "      <td>119390.000000</td>\n",
       "      <td>119390.000000</td>\n",
       "      <td>119390</td>\n",
       "      <td>119390</td>\n",
       "    </tr>\n",
       "    <tr>\n",
       "      <th>unique</th>\n",
       "      <td>2</td>\n",
       "      <td>NaN</td>\n",
       "      <td>NaN</td>\n",
       "      <td>NaN</td>\n",
       "      <td>12</td>\n",
       "      <td>NaN</td>\n",
       "      <td>NaN</td>\n",
       "      <td>NaN</td>\n",
       "      <td>NaN</td>\n",
       "      <td>NaN</td>\n",
       "      <td>...</td>\n",
       "      <td>3</td>\n",
       "      <td>NaN</td>\n",
       "      <td>NaN</td>\n",
       "      <td>NaN</td>\n",
       "      <td>4</td>\n",
       "      <td>NaN</td>\n",
       "      <td>NaN</td>\n",
       "      <td>NaN</td>\n",
       "      <td>3</td>\n",
       "      <td>926</td>\n",
       "    </tr>\n",
       "    <tr>\n",
       "      <th>top</th>\n",
       "      <td>City Hotel</td>\n",
       "      <td>NaN</td>\n",
       "      <td>NaN</td>\n",
       "      <td>NaN</td>\n",
       "      <td>August</td>\n",
       "      <td>NaN</td>\n",
       "      <td>NaN</td>\n",
       "      <td>NaN</td>\n",
       "      <td>NaN</td>\n",
       "      <td>NaN</td>\n",
       "      <td>...</td>\n",
       "      <td>No Deposit</td>\n",
       "      <td>NaN</td>\n",
       "      <td>NaN</td>\n",
       "      <td>NaN</td>\n",
       "      <td>Transient</td>\n",
       "      <td>NaN</td>\n",
       "      <td>NaN</td>\n",
       "      <td>NaN</td>\n",
       "      <td>Check-Out</td>\n",
       "      <td>2015-10-21</td>\n",
       "    </tr>\n",
       "    <tr>\n",
       "      <th>freq</th>\n",
       "      <td>79330</td>\n",
       "      <td>NaN</td>\n",
       "      <td>NaN</td>\n",
       "      <td>NaN</td>\n",
       "      <td>13877</td>\n",
       "      <td>NaN</td>\n",
       "      <td>NaN</td>\n",
       "      <td>NaN</td>\n",
       "      <td>NaN</td>\n",
       "      <td>NaN</td>\n",
       "      <td>...</td>\n",
       "      <td>104641</td>\n",
       "      <td>NaN</td>\n",
       "      <td>NaN</td>\n",
       "      <td>NaN</td>\n",
       "      <td>89613</td>\n",
       "      <td>NaN</td>\n",
       "      <td>NaN</td>\n",
       "      <td>NaN</td>\n",
       "      <td>75166</td>\n",
       "      <td>1461</td>\n",
       "    </tr>\n",
       "    <tr>\n",
       "      <th>mean</th>\n",
       "      <td>NaN</td>\n",
       "      <td>0.370416</td>\n",
       "      <td>104.011416</td>\n",
       "      <td>2016.156554</td>\n",
       "      <td>NaN</td>\n",
       "      <td>27.165173</td>\n",
       "      <td>15.798241</td>\n",
       "      <td>0.927599</td>\n",
       "      <td>2.500302</td>\n",
       "      <td>1.856403</td>\n",
       "      <td>...</td>\n",
       "      <td>NaN</td>\n",
       "      <td>86.693382</td>\n",
       "      <td>189.266735</td>\n",
       "      <td>2.321149</td>\n",
       "      <td>NaN</td>\n",
       "      <td>101.831122</td>\n",
       "      <td>0.062518</td>\n",
       "      <td>0.571363</td>\n",
       "      <td>NaN</td>\n",
       "      <td>NaN</td>\n",
       "    </tr>\n",
       "    <tr>\n",
       "      <th>std</th>\n",
       "      <td>NaN</td>\n",
       "      <td>0.482918</td>\n",
       "      <td>106.863097</td>\n",
       "      <td>0.707476</td>\n",
       "      <td>NaN</td>\n",
       "      <td>13.605138</td>\n",
       "      <td>8.780829</td>\n",
       "      <td>0.998613</td>\n",
       "      <td>1.908286</td>\n",
       "      <td>0.579261</td>\n",
       "      <td>...</td>\n",
       "      <td>NaN</td>\n",
       "      <td>110.774548</td>\n",
       "      <td>131.655015</td>\n",
       "      <td>17.594721</td>\n",
       "      <td>NaN</td>\n",
       "      <td>50.535790</td>\n",
       "      <td>0.245291</td>\n",
       "      <td>0.792798</td>\n",
       "      <td>NaN</td>\n",
       "      <td>NaN</td>\n",
       "    </tr>\n",
       "    <tr>\n",
       "      <th>min</th>\n",
       "      <td>NaN</td>\n",
       "      <td>0.000000</td>\n",
       "      <td>0.000000</td>\n",
       "      <td>2015.000000</td>\n",
       "      <td>NaN</td>\n",
       "      <td>1.000000</td>\n",
       "      <td>1.000000</td>\n",
       "      <td>0.000000</td>\n",
       "      <td>0.000000</td>\n",
       "      <td>0.000000</td>\n",
       "      <td>...</td>\n",
       "      <td>NaN</td>\n",
       "      <td>1.000000</td>\n",
       "      <td>6.000000</td>\n",
       "      <td>0.000000</td>\n",
       "      <td>NaN</td>\n",
       "      <td>-6.380000</td>\n",
       "      <td>0.000000</td>\n",
       "      <td>0.000000</td>\n",
       "      <td>NaN</td>\n",
       "      <td>NaN</td>\n",
       "    </tr>\n",
       "    <tr>\n",
       "      <th>25%</th>\n",
       "      <td>NaN</td>\n",
       "      <td>0.000000</td>\n",
       "      <td>18.000000</td>\n",
       "      <td>2016.000000</td>\n",
       "      <td>NaN</td>\n",
       "      <td>16.000000</td>\n",
       "      <td>8.000000</td>\n",
       "      <td>0.000000</td>\n",
       "      <td>1.000000</td>\n",
       "      <td>2.000000</td>\n",
       "      <td>...</td>\n",
       "      <td>NaN</td>\n",
       "      <td>9.000000</td>\n",
       "      <td>62.000000</td>\n",
       "      <td>0.000000</td>\n",
       "      <td>NaN</td>\n",
       "      <td>69.290000</td>\n",
       "      <td>0.000000</td>\n",
       "      <td>0.000000</td>\n",
       "      <td>NaN</td>\n",
       "      <td>NaN</td>\n",
       "    </tr>\n",
       "    <tr>\n",
       "      <th>50%</th>\n",
       "      <td>NaN</td>\n",
       "      <td>0.000000</td>\n",
       "      <td>69.000000</td>\n",
       "      <td>2016.000000</td>\n",
       "      <td>NaN</td>\n",
       "      <td>28.000000</td>\n",
       "      <td>16.000000</td>\n",
       "      <td>1.000000</td>\n",
       "      <td>2.000000</td>\n",
       "      <td>2.000000</td>\n",
       "      <td>...</td>\n",
       "      <td>NaN</td>\n",
       "      <td>14.000000</td>\n",
       "      <td>179.000000</td>\n",
       "      <td>0.000000</td>\n",
       "      <td>NaN</td>\n",
       "      <td>94.575000</td>\n",
       "      <td>0.000000</td>\n",
       "      <td>0.000000</td>\n",
       "      <td>NaN</td>\n",
       "      <td>NaN</td>\n",
       "    </tr>\n",
       "    <tr>\n",
       "      <th>75%</th>\n",
       "      <td>NaN</td>\n",
       "      <td>1.000000</td>\n",
       "      <td>160.000000</td>\n",
       "      <td>2017.000000</td>\n",
       "      <td>NaN</td>\n",
       "      <td>38.000000</td>\n",
       "      <td>23.000000</td>\n",
       "      <td>2.000000</td>\n",
       "      <td>3.000000</td>\n",
       "      <td>2.000000</td>\n",
       "      <td>...</td>\n",
       "      <td>NaN</td>\n",
       "      <td>229.000000</td>\n",
       "      <td>270.000000</td>\n",
       "      <td>0.000000</td>\n",
       "      <td>NaN</td>\n",
       "      <td>126.000000</td>\n",
       "      <td>0.000000</td>\n",
       "      <td>1.000000</td>\n",
       "      <td>NaN</td>\n",
       "      <td>NaN</td>\n",
       "    </tr>\n",
       "    <tr>\n",
       "      <th>max</th>\n",
       "      <td>NaN</td>\n",
       "      <td>1.000000</td>\n",
       "      <td>737.000000</td>\n",
       "      <td>2017.000000</td>\n",
       "      <td>NaN</td>\n",
       "      <td>53.000000</td>\n",
       "      <td>31.000000</td>\n",
       "      <td>19.000000</td>\n",
       "      <td>50.000000</td>\n",
       "      <td>55.000000</td>\n",
       "      <td>...</td>\n",
       "      <td>NaN</td>\n",
       "      <td>535.000000</td>\n",
       "      <td>543.000000</td>\n",
       "      <td>391.000000</td>\n",
       "      <td>NaN</td>\n",
       "      <td>5400.000000</td>\n",
       "      <td>8.000000</td>\n",
       "      <td>5.000000</td>\n",
       "      <td>NaN</td>\n",
       "      <td>NaN</td>\n",
       "    </tr>\n",
       "  </tbody>\n",
       "</table>\n",
       "<p>11 rows × 32 columns</p>\n",
       "</div>"
      ],
      "text/plain": [
       "             hotel    is_canceled      lead_time  arrival_date_year  \\\n",
       "count       119390  119390.000000  119390.000000      119390.000000   \n",
       "unique           2            NaN            NaN                NaN   \n",
       "top     City Hotel            NaN            NaN                NaN   \n",
       "freq         79330            NaN            NaN                NaN   \n",
       "mean           NaN       0.370416     104.011416        2016.156554   \n",
       "std            NaN       0.482918     106.863097           0.707476   \n",
       "min            NaN       0.000000       0.000000        2015.000000   \n",
       "25%            NaN       0.000000      18.000000        2016.000000   \n",
       "50%            NaN       0.000000      69.000000        2016.000000   \n",
       "75%            NaN       1.000000     160.000000        2017.000000   \n",
       "max            NaN       1.000000     737.000000        2017.000000   \n",
       "\n",
       "       arrival_date_month  arrival_date_week_number  \\\n",
       "count              119390             119390.000000   \n",
       "unique                 12                       NaN   \n",
       "top                August                       NaN   \n",
       "freq                13877                       NaN   \n",
       "mean                  NaN                 27.165173   \n",
       "std                   NaN                 13.605138   \n",
       "min                   NaN                  1.000000   \n",
       "25%                   NaN                 16.000000   \n",
       "50%                   NaN                 28.000000   \n",
       "75%                   NaN                 38.000000   \n",
       "max                   NaN                 53.000000   \n",
       "\n",
       "        arrival_date_day_of_month  stays_in_weekend_nights  \\\n",
       "count               119390.000000            119390.000000   \n",
       "unique                        NaN                      NaN   \n",
       "top                           NaN                      NaN   \n",
       "freq                          NaN                      NaN   \n",
       "mean                    15.798241                 0.927599   \n",
       "std                      8.780829                 0.998613   \n",
       "min                      1.000000                 0.000000   \n",
       "25%                      8.000000                 0.000000   \n",
       "50%                     16.000000                 1.000000   \n",
       "75%                     23.000000                 2.000000   \n",
       "max                     31.000000                19.000000   \n",
       "\n",
       "        stays_in_week_nights         adults  ...  deposit_type          agent  \\\n",
       "count          119390.000000  119390.000000  ...        119390  103050.000000   \n",
       "unique                   NaN            NaN  ...             3            NaN   \n",
       "top                      NaN            NaN  ...    No Deposit            NaN   \n",
       "freq                     NaN            NaN  ...        104641            NaN   \n",
       "mean                2.500302       1.856403  ...           NaN      86.693382   \n",
       "std                 1.908286       0.579261  ...           NaN     110.774548   \n",
       "min                 0.000000       0.000000  ...           NaN       1.000000   \n",
       "25%                 1.000000       2.000000  ...           NaN       9.000000   \n",
       "50%                 2.000000       2.000000  ...           NaN      14.000000   \n",
       "75%                 3.000000       2.000000  ...           NaN     229.000000   \n",
       "max                50.000000      55.000000  ...           NaN     535.000000   \n",
       "\n",
       "            company days_in_waiting_list customer_type            adr  \\\n",
       "count   6797.000000        119390.000000        119390  119390.000000   \n",
       "unique          NaN                  NaN             4            NaN   \n",
       "top             NaN                  NaN     Transient            NaN   \n",
       "freq            NaN                  NaN         89613            NaN   \n",
       "mean     189.266735             2.321149           NaN     101.831122   \n",
       "std      131.655015            17.594721           NaN      50.535790   \n",
       "min        6.000000             0.000000           NaN      -6.380000   \n",
       "25%       62.000000             0.000000           NaN      69.290000   \n",
       "50%      179.000000             0.000000           NaN      94.575000   \n",
       "75%      270.000000             0.000000           NaN     126.000000   \n",
       "max      543.000000           391.000000           NaN    5400.000000   \n",
       "\n",
       "        required_car_parking_spaces  total_of_special_requests  \\\n",
       "count                 119390.000000              119390.000000   \n",
       "unique                          NaN                        NaN   \n",
       "top                             NaN                        NaN   \n",
       "freq                            NaN                        NaN   \n",
       "mean                       0.062518                   0.571363   \n",
       "std                        0.245291                   0.792798   \n",
       "min                        0.000000                   0.000000   \n",
       "25%                        0.000000                   0.000000   \n",
       "50%                        0.000000                   0.000000   \n",
       "75%                        0.000000                   1.000000   \n",
       "max                        8.000000                   5.000000   \n",
       "\n",
       "        reservation_status reservation_status_date  \n",
       "count               119390                  119390  \n",
       "unique                   3                     926  \n",
       "top              Check-Out              2015-10-21  \n",
       "freq                 75166                    1461  \n",
       "mean                   NaN                     NaN  \n",
       "std                    NaN                     NaN  \n",
       "min                    NaN                     NaN  \n",
       "25%                    NaN                     NaN  \n",
       "50%                    NaN                     NaN  \n",
       "75%                    NaN                     NaN  \n",
       "max                    NaN                     NaN  \n",
       "\n",
       "[11 rows x 32 columns]"
      ]
     },
     "execution_count": 113,
     "metadata": {},
     "output_type": "execute_result"
    }
   ],
   "source": [
    "# Step 6: Basic statistical summary\n",
    "df.describe(include='all')"
   ]
  },
  {
   "cell_type": "markdown",
   "id": "5055c0a8",
   "metadata": {},
   "source": [
    " Task 1.2: Missing Value Analysis"
   ]
  },
  {
   "cell_type": "code",
   "execution_count": 114,
   "id": "f494ee2e",
   "metadata": {},
   "outputs": [],
   "source": [
    "# Step 1: Identify columns with missing values\n",
    "missing_values = df.isnull().sum()\n",
    "missing_percent = (missing_values / len(df)) * 100"
   ]
  },
  {
   "cell_type": "code",
   "execution_count": 115,
   "id": "c0438e15",
   "metadata": {},
   "outputs": [
    {
     "name": "stdout",
     "output_type": "stream",
     "text": [
      "          Missing Values  Percentage\n",
      "children               4    0.003350\n",
      "country              488    0.408744\n",
      "agent              16340   13.686238\n",
      "company           112593   94.306893\n"
     ]
    }
   ],
   "source": [
    "# Percentage of missing values\n",
    "missing_percentage = (missing_values / len(df)) * 100\n",
    "\n",
    "missing_report = pd.DataFrame({\n",
    "    'Missing Values': missing_values,\n",
    "    'Percentage': missing_percentage\n",
    "})\n",
    "print(missing_report[missing_report['Missing Values'] > 0])"
   ]
  },
  {
   "cell_type": "code",
   "execution_count": 116,
   "id": "d229dd2a",
   "metadata": {},
   "outputs": [
    {
     "data": {
      "image/png": "[encoded data removed]",
      "text/plain": [
       "<Figure size 1200x600 with 1 Axes>"
      ]
     },
     "metadata": {},
     "output_type": "display_data"
    }
   ],
   "source": [
    "# Step 3: Visualize missing values using a heatmap\n",
    "plt.figure(figsize=(12, 6))\n",
    "sns.heatmap(df.isnull(), cbar=False, cmap='viridis')\n",
    "plt.title(\"Missing Values Heatmap\")\n",
    "plt.show()"
   ]
  },
  {
   "cell_type": "code",
   "execution_count": 117,
   "id": "b12519a0",
   "metadata": {},
   "outputs": [
    {
     "name": "stdout",
     "output_type": "stream",
     "text": [
      "\n",
      " Final Missing Value Report \n",
      "                                Missing Values  Percentage Missing Type\n",
      "hotel                                        0    0.000000         MCAR\n",
      "is_canceled                                  0    0.000000         MCAR\n",
      "lead_time                                    0    0.000000         MCAR\n",
      "arrival_date_year                            0    0.000000         MCAR\n",
      "arrival_date_month                           0    0.000000         MCAR\n",
      "arrival_date_week_number                     0    0.000000         MCAR\n",
      "arrival_date_day_of_month                    0    0.000000         MCAR\n",
      "stays_in_weekend_nights                      0    0.000000         MCAR\n",
      "stays_in_week_nights                         0    0.000000         MCAR\n",
      "adults                                       0    0.000000         MCAR\n",
      "children                                     4    0.003350         MCAR\n",
      "babies                                       0    0.000000         MCAR\n",
      "meal                                         0    0.000000         MCAR\n",
      "country                                    488    0.408744         MNAR\n",
      "market_segment                               0    0.000000         MCAR\n",
      "distribution_channel                         0    0.000000         MCAR\n",
      "is_repeated_guest                            0    0.000000         MCAR\n",
      "previous_cancellations                       0    0.000000         MCAR\n",
      "previous_bookings_not_canceled               0    0.000000         MCAR\n",
      "reserved_room_type                           0    0.000000         MCAR\n",
      "assigned_room_type                           0    0.000000         MCAR\n",
      "booking_changes                              0    0.000000         MCAR\n",
      "deposit_type                                 0    0.000000         MCAR\n",
      "agent                                    16340   13.686238          MAR\n",
      "company                                 112593   94.306893          MAR\n",
      "days_in_waiting_list                         0    0.000000         MCAR\n",
      "customer_type                                0    0.000000         MCAR\n",
      "adr                                          0    0.000000         MCAR\n",
      "required_car_parking_spaces                  0    0.000000         MCAR\n",
      "total_of_special_requests                    0    0.000000         MCAR\n",
      "reservation_status                           0    0.000000         MCAR\n",
      "reservation_status_date                      0    0.000000         MCAR\n"
     ]
    }
   ],
   "source": [
    "#Manually Categorize Missingness\n",
    "\n",
    "missing_report['Missing Type'] = [\n",
    "    'MAR' if col in ['agent', 'company'] else\n",
    "    'MNAR' if col == 'country' else\n",
    "    'MCAR' for col in missing_report.index\n",
    "]\n",
    "print(\"\\n Final Missing Value Report \")\n",
    "print(missing_report)"
   ]
  },
  {
   "cell_type": "markdown",
   "id": "fd5b6fc1",
   "metadata": {},
   "source": [
    "Task 1.3: Data Quality Assessment"
   ]
  },
  {
   "cell_type": "code",
   "execution_count": 118,
   "id": "f317d616",
   "metadata": {},
   "outputs": [
    {
     "name": "stdout",
     "output_type": "stream",
     "text": [
      "Number of duplicate rows: 31994\n"
     ]
    }
   ],
   "source": [
    "# Number of exact duplicate rows\n",
    "duplicates = df.duplicated()\n",
    "print(f\"Number of duplicate rows: {duplicates.sum()}\")"
   ]
  },
  {
   "cell_type": "code",
   "execution_count": 119,
   "id": "364743cb",
   "metadata": {},
   "outputs": [
    {
     "data": {
      "image/png": "[encoded data removed]",
      "text/plain": [
       "<Figure size 600x300 with 1 Axes>"
      ]
     },
     "metadata": {},
     "output_type": "display_data"
    },
    {
     "data": {
      "image/png": "[encoded data removed]",
      "text/plain": [
       "<Figure size 600x300 with 1 Axes>"
      ]
     },
     "metadata": {},
     "output_type": "display_data"
    },
    {
     "data": {
      "image/png": "[encoded data removed]",
      "text/plain": [
       "<Figure size 600x300 with 1 Axes>"
      ]
     },
     "metadata": {},
     "output_type": "display_data"
    },
    {
     "data": {
      "image/png": "[encoded data removed]",
      "text/plain": [
       "<Figure size 600x300 with 1 Axes>"
      ]
     },
     "metadata": {},
     "output_type": "display_data"
    },
    {
     "data": {
      "image/png": "[encoded data removed]",
      "text/plain": [
       "<Figure size 600x300 with 1 Axes>"
      ]
     },
     "metadata": {},
     "output_type": "display_data"
    },
    {
     "data": {
      "image/png": "[encoded data removed]",
      "text/plain": [
       "<Figure size 600x300 with 1 Axes>"
      ]
     },
     "metadata": {},
     "output_type": "display_data"
    },
    {
     "data": {
      "image/png": "[encoded data removed]",
      "text/plain": [
       "<Figure size 600x300 with 1 Axes>"
      ]
     },
     "metadata": {},
     "output_type": "display_data"
    }
   ],
   "source": [
    "# Select numerical columns for outlier inspection\n",
    "numerical_cols = ['lead_time', 'stays_in_weekend_nights', 'stays_in_week_nights', 'adults', 'children', 'babies', 'adr']\n",
    "\n",
    "# Boxplots for each column\n",
    "for col in numerical_cols:\n",
    "    plt.figure(figsize=(6, 3))\n",
    "    sns.boxplot(x=df[col])\n",
    "    plt.title(f'Boxplot of {col}')\n",
    "    plt.show()\n"
   ]
  },
  {
   "cell_type": "code",
   "execution_count": 120,
   "id": "7b4cadc2",
   "metadata": {},
   "outputs": [
    {
     "name": "stdout",
     "output_type": "stream",
     "text": [
      "\n",
      "Column: hotel\n",
      "Unique Values: ['Resort Hotel' 'City Hotel']\n",
      "\n",
      "Column: arrival_date_month\n",
      "Unique Values: ['July' 'August' 'September' 'October' 'November' 'December' 'January'\n",
      " 'February' 'March' 'April']\n",
      "\n",
      "Column: meal\n",
      "Unique Values: ['BB' 'FB' 'HB' 'SC' 'Undefined']\n",
      "\n",
      "Column: country\n",
      "Unique Values: ['PRT' 'GBR' 'USA' 'ESP' 'IRL' 'FRA' nan 'ROU' 'NOR' 'OMN']\n",
      "\n",
      "Column: market_segment\n",
      "Unique Values: ['Direct' 'Corporate' 'Online TA' 'Offline TA/TO' 'Complementary' 'Groups'\n",
      " 'Undefined' 'Aviation']\n",
      "\n",
      "Column: distribution_channel\n",
      "Unique Values: ['Direct' 'Corporate' 'TA/TO' 'Undefined' 'GDS']\n",
      "\n",
      "Column: reserved_room_type\n",
      "Unique Values: ['C' 'A' 'D' 'E' 'G' 'F' 'H' 'L' 'P' 'B']\n",
      "\n",
      "Column: assigned_room_type\n",
      "Unique Values: ['C' 'A' 'D' 'E' 'G' 'F' 'I' 'B' 'H' 'P']\n",
      "\n",
      "Column: deposit_type\n",
      "Unique Values: ['No Deposit' 'Refundable' 'Non Refund']\n",
      "\n",
      "Column: customer_type\n",
      "Unique Values: ['Transient' 'Contract' 'Transient-Party' 'Group']\n",
      "\n",
      "Column: reservation_status\n",
      "Unique Values: ['Check-Out' 'Canceled' 'No-Show']\n",
      "\n",
      "Column: reservation_status_date\n",
      "Unique Values: ['2015-07-01' '2015-07-02' '2015-07-03' '2015-05-06' '2015-04-22'\n",
      " '2015-06-23' '2015-07-05' '2015-07-06' '2015-07-07' '2015-07-08']\n"
     ]
    }
   ],
   "source": [
    "# 3. Unique values in categorical columns\n",
    "for col in df.select_dtypes(include='object').columns:\n",
    "    print(f\"\\nColumn: {col}\\nUnique Values: {df[col].unique()[:10]}\") "
   ]
  },
  {
   "cell_type": "code",
   "execution_count": 121,
   "id": "e80b45ea",
   "metadata": {},
   "outputs": [
    {
     "name": "stdout",
     "output_type": "stream",
     "text": [
      "\n",
      "Number of illogical bookings (no guests): 180\n"
     ]
    }
   ],
   "source": [
    "# Check for bookings with 0 adults, 0 children, 0 babies\n",
    "illogical_rows = df[(df['adults'] == 0) & (df['children'] == 0) & (df['babies'] == 0)]\n",
    "print(f\"\\nNumber of illogical bookings (no guests): {illogical_rows.shape[0]}\")"
   ]
  },
  {
   "cell_type": "markdown",
   "id": "7e645aa7",
   "metadata": {},
   "source": [
    "Phase 2: Data Cleaning Implementation"
   ]
  },
  {
   "cell_type": "markdown",
   "id": "534c367c",
   "metadata": {},
   "source": [
    " Task 2.1: Handling Missing Values"
   ]
  },
  {
   "cell_type": "code",
   "execution_count": 122,
   "id": "fef44ff9",
   "metadata": {},
   "outputs": [],
   "source": [
    "# 1. Replace NaN in 'children' with 0\n",
    "df['children'].fillna(0, inplace=True)"
   ]
  },
  {
   "cell_type": "code",
   "execution_count": 123,
   "id": "08005005",
   "metadata": {},
   "outputs": [
    {
     "name": "stdout",
     "output_type": "stream",
     "text": [
      "Missing countries: 488\n",
      "Most common country: PRT\n"
     ]
    }
   ],
   "source": [
    "# 2. Country column: Investigate patterns\n",
    "print(\"Missing countries:\", df['country'].isnull().sum())\n",
    "print(\"Most common country:\", df['country'].mode()[0])\n",
    "\n",
    "# Replace NaN with 'Unknown'\n",
    "df['country'].fillna('Unknown', inplace=True)"
   ]
  },
  {
   "cell_type": "code",
   "execution_count": 124,
   "id": "c56ced48",
   "metadata": {},
   "outputs": [],
   "source": [
    "# 3. Replace NaN in 'agent' with 0 (no agent involved)\n",
    "df['agent'].fillna(0, inplace=True)"
   ]
  },
  {
   "cell_type": "code",
   "execution_count": 125,
   "id": "6d65c54f",
   "metadata": {},
   "outputs": [],
   "source": [
    "# 4. Replace NaN in 'company' with 0 (no company involved)\n",
    "df['company'].fillna(0, inplace=True)"
   ]
  },
  {
   "cell_type": "code",
   "execution_count": 126,
   "id": "c7773ca6",
   "metadata": {},
   "outputs": [
    {
     "name": "stdout",
     "output_type": "stream",
     "text": [
      "Missing values after imputation:\n",
      " hotel                             0\n",
      "is_canceled                       0\n",
      "lead_time                         0\n",
      "arrival_date_year                 0\n",
      "arrival_date_month                0\n",
      "arrival_date_week_number          0\n",
      "arrival_date_day_of_month         0\n",
      "stays_in_weekend_nights           0\n",
      "stays_in_week_nights              0\n",
      "adults                            0\n",
      "children                          0\n",
      "babies                            0\n",
      "meal                              0\n",
      "country                           0\n",
      "market_segment                    0\n",
      "distribution_channel              0\n",
      "is_repeated_guest                 0\n",
      "previous_cancellations            0\n",
      "previous_bookings_not_canceled    0\n",
      "reserved_room_type                0\n",
      "assigned_room_type                0\n",
      "booking_changes                   0\n",
      "deposit_type                      0\n",
      "agent                             0\n",
      "company                           0\n",
      "days_in_waiting_list              0\n",
      "customer_type                     0\n",
      "adr                               0\n",
      "required_car_parking_spaces       0\n",
      "total_of_special_requests         0\n",
      "reservation_status                0\n",
      "reservation_status_date           0\n",
      "dtype: int64\n"
     ]
    }
   ],
   "source": [
    "# Advanced Challenge: Conditional imputation\n",
    "#if children < 0 or missing (impossible), we set it to 0.\n",
    "df['children'] = df['children'].apply(lambda x: 0 if x < 0 else x)\n",
    "\n",
    "# Confirm no missing values remain\n",
    "print(\"Missing values after imputation:\\n\", df.isnull().sum())"
   ]
  },
  {
   "cell_type": "markdown",
   "id": "7e979d17",
   "metadata": {},
   "source": [
    "Task 2.2: Duplicate Detection and Removal"
   ]
  },
  {
   "cell_type": "code",
   "execution_count": 127,
   "id": "390edddd",
   "metadata": {},
   "outputs": [
    {
     "name": "stdout",
     "output_type": "stream",
     "text": [
      "Number of exact duplicates: 31994\n"
     ]
    }
   ],
   "source": [
    "# 1. Identify exact duplicates\n",
    "duplicates = df.duplicated()\n",
    "print(f\"Number of exact duplicates: {duplicates.sum()}\")"
   ]
  },
  {
   "cell_type": "code",
   "execution_count": 128,
   "id": "94a2b47c",
   "metadata": {},
   "outputs": [
    {
     "name": "stdout",
     "output_type": "stream",
     "text": [
      "Dataset shape after removing duplicates: (87396, 32)\n"
     ]
    }
   ],
   "source": [
    "# 2. Remove exact duplicates\n",
    "df = df.drop_duplicates()\n",
    "print(f\"Dataset shape after removing duplicates: {df.shape}\")"
   ]
  },
  {
   "cell_type": "code",
   "execution_count": 129,
   "id": "5a501db3",
   "metadata": {},
   "outputs": [
    {
     "name": "stdout",
     "output_type": "stream",
     "text": [
      "Number of near-duplicates: 25237\n"
     ]
    }
   ],
   "source": [
    "# 3. Near-duplicates detection\n",
    "near_duplicates = df.duplicated(subset=['hotel','arrival_date_year','arrival_date_month','arrival_date_day_of_month','adults','children','babies','adr'])\n",
    "print(f\"Number of near-duplicates: {near_duplicates.sum()}\")"
   ]
  },
  {
   "cell_type": "code",
   "execution_count": null,
   "id": "13b8bca2",
   "metadata": {},
   "outputs": [],
   "source": []
  },
  {
   "cell_type": "markdown",
   "id": "6f5d95cd",
   "metadata": {},
   "source": [
    "Task 2.3: Outlier Detection and Treatment"
   ]
  },
  {
   "cell_type": "code",
   "execution_count": 130,
   "id": "9bd514d4",
   "metadata": {},
   "outputs": [],
   "source": [
    "#1. IQR Method\n",
    "numerical_cols = ['lead_time', 'stays_in_weekend_nights', 'stays_in_week_nights','adults', 'children', 'babies', 'adr']\n",
    "def remove_outliers_iqr(df, col):\n",
    "    Q1 = df[col].quantile(0.25)\n",
    "    Q3 = df[col].quantile(0.75)\n",
    "    IQR = Q3 - Q1\n",
    "    lower_bound = Q1 - 1.5 * IQR\n",
    "    upper_bound = Q3 + 1.5 * IQR\n",
    "    before = df.shape[0]\n",
    "    df = df[(df[col] >= lower_bound) & (df[col] <= upper_bound)]\n",
    "    after = df.shape[0]\n",
    "    print(f\"{col}: Removed {before - after} outliers using IQR\")\n",
    "    return df\n",
    "\n",
    "# Apply IQR on 'adr' (most common outlier column)\n",
    "#df = remove_outliers_iqr(df, 'adr')\n"
   ]
  },
  {
   "cell_type": "code",
   "execution_count": 131,
   "id": "6e9d7a3d",
   "metadata": {},
   "outputs": [
    {
     "name": "stdout",
     "output_type": "stream",
     "text": [
      "lead_time: 1049 outliers using Z-score > ±3\n",
      "stays_in_weekend_nights: 290 outliers using Z-score > ±3\n",
      "stays_in_week_nights: 1531 outliers using Z-score > ±3\n",
      "adults: 76 outliers using Z-score > ±3\n",
      "children: 3669 outliers using Z-score > ±3\n",
      "babies: 914 outliers using Z-score > ±3\n",
      "adr: 628 outliers using Z-score > ±3\n"
     ]
    }
   ],
   "source": [
    "#Apply Z-Score Manually\n",
    "\n",
    "def z_score_outliers(series, threshold=3):\n",
    "    mean = series.mean()\n",
    "    std = series.std()\n",
    "    z_scores = (series - mean) / std\n",
    "    return series[np.abs(z_scores) > threshold]\n",
    "    \n",
    "for col in numerical_cols:\n",
    "    z_outliers = z_score_outliers(df[col])\n",
    "    print(f\"{col}: {len(z_outliers)} outliers using Z-score > ±3\")"
   ]
  },
  {
   "cell_type": "code",
   "execution_count": 132,
   "id": "077222f7",
   "metadata": {},
   "outputs": [
    {
     "data": {
      "image/png": "[encoded data removed]",
      "text/plain": [
       "<Figure size 600x300 with 1 Axes>"
      ]
     },
     "metadata": {},
     "output_type": "display_data"
    },
    {
     "data": {
      "image/png": "[encoded data removed]",
      "text/plain": [
       "<Figure size 600x300 with 1 Axes>"
      ]
     },
     "metadata": {},
     "output_type": "display_data"
    },
    {
     "data": {
      "image/png": "[encoded data removed]",
      "text/plain": [
       "<Figure size 600x300 with 1 Axes>"
      ]
     },
     "metadata": {},
     "output_type": "display_data"
    },
    {
     "data": {
      "image/png": "[encoded data removed]",
      "text/plain": [
       "<Figure size 600x300 with 1 Axes>"
      ]
     },
     "metadata": {},
     "output_type": "display_data"
    },
    {
     "data": {
      "image/png": "[encoded data removed]",
      "text/plain": [
       "<Figure size 600x300 with 1 Axes>"
      ]
     },
     "metadata": {},
     "output_type": "display_data"
    },
    {
     "data": {
      "image/png": "[encoded data removed]",
      "text/plain": [
       "<Figure size 600x300 with 1 Axes>"
      ]
     },
     "metadata": {},
     "output_type": "display_data"
    },
    {
     "data": {
      "image/png": "[encoded data removed]",
      "text/plain": [
       "<Figure size 600x300 with 1 Axes>"
      ]
     },
     "metadata": {},
     "output_type": "display_data"
    }
   ],
   "source": [
    "# 3. Boxplots for visualization\n",
    "for col in ['lead_time', 'stays_in_weekend_nights', 'stays_in_week_nights','adults', 'children', 'babies', 'adr']:\n",
    "    plt.figure(figsize=(6,3))\n",
    "    sns.boxplot(x=df[col])\n",
    "    plt.title(f\"Boxplot after Outlier Treatment - {col}\")\n",
    "    plt.show()"
   ]
  },
  {
   "cell_type": "markdown",
   "id": "46db6712",
   "metadata": {},
   "source": [
    "Task 2.4: Data Inconsistency Fixes"
   ]
  },
  {
   "cell_type": "code",
   "execution_count": 133,
   "id": "575b0a05",
   "metadata": {},
   "outputs": [],
   "source": [
    "# 1. Standardize country codes (convert to uppercase)\n",
    "df['country'] = df['country'].str.upper()"
   ]
  },
  {
   "cell_type": "code",
   "execution_count": 134,
   "id": "3086aab6",
   "metadata": {},
   "outputs": [],
   "source": [
    "# 2. Fix date formats\n",
    "df['reservation_status_date'] = pd.to_datetime(df['reservation_status_date'], errors='coerce')"
   ]
  },
  {
   "cell_type": "code",
   "execution_count": 135,
   "id": "ca57d9ee",
   "metadata": {},
   "outputs": [
    {
     "name": "stdout",
     "output_type": "stream",
     "text": [
      "Number of invalid rows (0 guests): 166\n"
     ]
    }
   ],
   "source": [
    "# 3. Handle impossible guest combinations\n",
    "invalid_rows = df[(df['adults']==0) & (df['children']==0) & (df['babies']==0)]\n",
    "print(f\"Number of invalid rows (0 guests): {len(invalid_rows)}\")\n",
    "df = df.drop(invalid_rows.index)"
   ]
  },
  {
   "cell_type": "code",
   "execution_count": 136,
   "id": "1fbc5834",
   "metadata": {},
   "outputs": [
    {
     "name": "stdout",
     "output_type": "stream",
     "text": [
      "Dataset shape after consistency fixes: (85586, 32)\n"
     ]
    }
   ],
   "source": [
    "# 4. Logical constraint check (example: adr > 0)\n",
    "df = df[df['adr'] > 0]\n",
    "print(\"Dataset shape after consistency fixes:\", df.shape)"
   ]
  },
  {
   "cell_type": "markdown",
   "id": "995dcefa",
   "metadata": {},
   "source": [
    "Phase 3: Data Validation and Documentation"
   ]
  },
  {
   "cell_type": "markdown",
   "id": "ec6bebe9",
   "metadata": {},
   "source": [
    "Task 3.1: Data Integrity Checks"
   ]
  },
  {
   "cell_type": "code",
   "execution_count": 137,
   "id": "e32d7357",
   "metadata": {},
   "outputs": [
    {
     "name": "stdout",
     "output_type": "stream",
     "text": [
      "Invalid guest rows: 0\n"
     ]
    }
   ],
   "source": [
    "# 1. Verify total guests > 0\n",
    "df['total_guests'] = df['adults'] + df['children'] + df['babies']\n",
    "invalid_guests = df[df['total_guests'] <= 0]\n",
    "print(f\"Invalid guest rows: {len(invalid_guests)}\")\n",
    "\n",
    "# Remove invalid guest rows if found\n",
    "df = df[df['total_guests'] > 0]"
   ]
  },
  {
   "cell_type": "code",
   "execution_count": 138,
   "id": "84ed0407",
   "metadata": {},
   "outputs": [
    {
     "name": "stdout",
     "output_type": "stream",
     "text": [
      "Arrival Date Range: 2015-07-01 00:00:00 to 2017-08-31 00:00:00\n"
     ]
    }
   ],
   "source": [
    "#Convert month name to number\n",
    "df['arrival_month_num'] = pd.to_datetime(df['arrival_date_month'], format='%B').dt.month\n",
    "\n",
    "# Create arrival_date from year, month, day\n",
    "df['arrival_date'] = pd.to_datetime(\n",
    "    df['arrival_date_year'].astype(str) + '-' +\n",
    "    df['arrival_month_num'].astype(str) + '-' +\n",
    "    df['arrival_date_day_of_month'].astype(str),\n",
    "    errors='coerce'\n",
    ")\n",
    "df['arrival_date']\n",
    "\n",
    "#2. Check that arrival dates are within the expected range\n",
    "print(\"Arrival Date Range:\", df['arrival_date'].min(), \"to\", df['arrival_date'].max())"
   ]
  },
  {
   "cell_type": "code",
   "execution_count": 139,
   "id": "fad6d739",
   "metadata": {},
   "outputs": [
    {
     "name": "stdout",
     "output_type": "stream",
     "text": [
      "lead_time: Min=0, Max=709\n",
      "stays_in_weekend_nights: Min=0, Max=19\n",
      "stays_in_week_nights: Min=0, Max=50\n",
      "adults: Min=0, Max=4\n",
      "children: Min=0.0, Max=10.0\n",
      "babies: Min=0, Max=10\n",
      "adr: Min=0.26, Max=5400.0\n"
     ]
    }
   ],
   "source": [
    "# 3. Validate numerical values\n",
    "numerical_cols = ['lead_time', 'stays_in_weekend_nights', 'stays_in_week_nights', 'adults', 'children', 'babies', 'adr']\n",
    "for col in numerical_cols:\n",
    "    min_val, max_val = df[col].min(), df[col].max()\n",
    "    print(f\"{col}: Min={min_val}, Max={max_val}\")"
   ]
  },
  {
   "cell_type": "code",
   "execution_count": 140,
   "id": "64bf7905",
   "metadata": {},
   "outputs": [
    {
     "name": "stdout",
     "output_type": "stream",
     "text": [
      "Meal column unique values after fix: ['BB' 'FB' 'HB' 'SC' 'Undefined']\n"
     ]
    }
   ],
   "source": [
    "# 4. Ensure categorical values are from expected sets\n",
    "expected_meals = ['BB', 'HB', 'FB', 'SC', 'Undefined']\n",
    "df.loc[~df['meal'].isin(expected_meals), 'meal'] = 'Undefined'\n",
    "print(\"Meal column unique values after fix:\", df['meal'].unique())"
   ]
  },
  {
   "cell_type": "markdown",
   "id": "5c4e1b61",
   "metadata": {},
   "source": [
    "Task 3.3: Final Dataset Preparation"
   ]
  },
  {
   "cell_type": "code",
   "execution_count": 141,
   "id": "25d10b40",
   "metadata": {},
   "outputs": [
    {
     "name": "stdout",
     "output_type": "stream",
     "text": [
      "✅ Cleaned dataset saved as 'hotel_bookings_cleaned.csv'\n"
     ]
    }
   ],
   "source": [
    "df.to_csv('C:/Users/ASUS VIVOBOOK S16/Desktop/0317/data/hotel_bookings_cleaned.csv', index=False)\n",
    "print(\"✅ Cleaned dataset saved as 'hotel_bookings_cleaned.csv'\")"
   ]
  },
  {
   "cell_type": "code",
   "execution_count": 142,
   "id": "49e6894f",
   "metadata": {},
   "outputs": [
    {
     "name": "stdout",
     "output_type": "stream",
     "text": [
      "Cleaned dataset saved\n"
     ]
    }
   ],
   "source": [
    "# 1. Create final cleaned dataset CSV\n",
    "df.to_csv('C:/Users/ASUS VIVOBOOK S16/Desktop/0317/data/hotel_bookings_cleaned.csv', index=False)\n",
    "print(f\"Cleaned dataset saved\")"
   ]
  },
  {
   "cell_type": "code",
   "execution_count": 143,
   "id": "858b7185",
   "metadata": {},
   "outputs": [],
   "source": [
    "data_dictionary = {\n",
    "    'hotel': 'Type of hotel (Resort Hotel or City Hotel)',\n",
    "    'is_canceled': 'Booking cancellation status (1 = canceled, 0 = not canceled)',\n",
    "    'lead_time': 'Number of days between booking and arrival',\n",
    "    'arrival_date': 'Combined and cleaned arrival date',\n",
    "    'stays_in_weekend_nights': 'Number of weekend nights (Saturday/Sunday) stayed',\n",
    "    'stays_in_week_nights': 'Number of week nights (Monday–Friday) stayed',\n",
    "    'adults': 'Number of adults',\n",
    "    'children': 'Number of children',\n",
    "    'babies': 'Number of babies',\n",
    "    'meal': 'Type of meal booked (BB, HB, etc.)',\n",
    "    'country': 'Country of origin (ISO Alpha-2 format)',\n",
    "    'market_segment': 'Market segment (e.g., Direct, Online TA)',\n",
    "    'distribution_channel': 'How booking was made (e.g., TA/TO, Direct)',\n",
    "    'is_repeated_guest': 'Indicates if the guest has booked before',\n",
    "    'previous_cancellations': 'Number of previous cancellations by the customer',\n",
    "    'previous_bookings_not_canceled': 'Number of previous successful bookings',\n",
    "    'reserved_room_type': 'Room type reserved by the customer',\n",
    "    'assigned_room_type': 'Room type assigned at check-in',\n",
    "    'booking_changes': 'Number of changes to the booking',\n",
    "    'deposit_type': 'Type of deposit paid',\n",
    "    'agent': 'Agent ID through which the booking was made',\n",
    "    'company': 'Company ID (if applicable)',\n",
    "    'days_in_waiting_list': 'Number of days the booking was on the waiting list',\n",
    "    'customer_type': 'Type of customer (e.g., Contract, Group)',\n",
    "    'adr': 'Average Daily Rate (amount paid per night)',\n",
    "    'required_car_parking_spaces': 'Number of car parking spaces required',\n",
    "    'total_of_special_requests': 'Number of special requests made',\n",
    "    'reservation_status': 'Status of reservation (e.g., Check-Out, Canceled)',\n",
    "    'reservation_status_date': 'Date on which the last reservation status was updated'\n",
    "}\n",
    "\n",
    "# Convert to DataFrame and export as CSV (optional)\n",
    "pd.DataFrame(list(data_dictionary.items()), columns=['Column', 'Description']).to_csv('C:/Users/ASUS VIVOBOOK S16/Desktop/0317/data/data_dictionary.csv', index=False)\n"
   ]
  },
  {
   "cell_type": "markdown",
   "id": "470ce026",
   "metadata": {},
   "source": [
    "Extension 1: Feature Engineering"
   ]
  },
  {
   "cell_type": "code",
   "execution_count": 144,
   "id": "21815058",
   "metadata": {},
   "outputs": [
    {
     "name": "stdout",
     "output_type": "stream",
     "text": [
      "   total_stay_nights  arrival_month_num  season  is_cancelled_flag  \\\n",
      "2                  1                  7  Summer                  0   \n",
      "3                  1                  7  Summer                  0   \n",
      "4                  2                  7  Summer                  0   \n",
      "6                  2                  7  Summer                  0   \n",
      "7                  2                  7  Summer                  0   \n",
      "\n",
      "   estimated_total_spend  \n",
      "2                   75.0  \n",
      "3                   75.0  \n",
      "4                  392.0  \n",
      "6                  428.0  \n",
      "7                  412.0  \n"
     ]
    }
   ],
   "source": [
    "# 1. Total stay duration\n",
    "df['total_stay_nights'] = df['stays_in_weekend_nights'] + df['stays_in_week_nights']\n",
    "\n",
    "# 2. Total guests already exists, but if not:\n",
    "if 'total_guests' not in df.columns:\n",
    "    df['total_guests'] = df['adults'] + df['children'] + df['babies']\n",
    "\n",
    "# 3. Booking month & season\n",
    "df['arrival_month_num'] = pd.to_datetime(df['arrival_date_month'], format='%B').dt.month\n",
    "\n",
    "def get_season(month):\n",
    "    if month in [12, 1, 2]: return 'Winter'\n",
    "    elif month in [3, 4, 5]: return 'Spring'\n",
    "    elif month in [6, 7, 8]: return 'Summer'\n",
    "    else: return 'Autumn'\n",
    "\n",
    "df['season'] = df['arrival_month_num'].apply(get_season)\n",
    "\n",
    "# 4. Booking status as binary (0 = Not Cancelled, 1 = Cancelled)\n",
    "df['is_cancelled_flag'] = (df['reservation_status'] == 'Canceled').astype(int)\n",
    "\n",
    "# 5. Customer Lifetime Value Proxy (e.g., total spend = ADR * total_stay_nights * total_guests)\n",
    "df['estimated_total_spend'] = df['adr'] * df['total_stay_nights'] * df['total_guests']\n",
    "\n",
    "print(df[['total_stay_nights', 'arrival_month_num', 'season', 'is_cancelled_flag', 'estimated_total_spend']].head())"
   ]
  },
  {
   "cell_type": "markdown",
   "id": "03bd0753",
   "metadata": {},
   "source": [
    "Extension 2: Automated Cleaning Pipeline"
   ]
  },
  {
   "cell_type": "code",
   "execution_count": 145,
   "id": "17ac2841",
   "metadata": {},
   "outputs": [
    {
     "name": "stdout",
     "output_type": "stream",
     "text": [
      "Shape after pipeline: (83046, 39)\n"
     ]
    }
   ],
   "source": [
    "def handle_missing_values(df):\n",
    "    df['children'].fillna(0, inplace=True)\n",
    "    df['country'].fillna('Unknown', inplace=True)\n",
    "    df['agent'].fillna(0, inplace=True)\n",
    "    df['company'].fillna(0, inplace=True)\n",
    "    return df\n",
    "\n",
    "def remove_duplicates(df):\n",
    "    df = df.drop_duplicates()\n",
    "    return df\n",
    "\n",
    "def remove_outliers(df, col):\n",
    "    Q1 = df[col].quantile(0.25)\n",
    "    Q3 = df[col].quantile(0.75)\n",
    "    IQR = Q3 - Q1\n",
    "    lower_bound = Q1 - 1.5 * IQR\n",
    "    upper_bound = Q3 + 1.5 * IQR\n",
    "    return df[(df[col] >= lower_bound) & (df[col] <= upper_bound)]\n",
    "\n",
    "def fix_inconsistencies(df):\n",
    "    df['country'] = df['country'].str.upper()\n",
    "    df['reservation_status_date'] = pd.to_datetime(df['reservation_status_date'], errors='coerce')\n",
    "    df = df[df['adults'] + df['children'] + df['babies'] > 0]\n",
    "    return df\n",
    "\n",
    "def clean_dataset(df):\n",
    "    df = handle_missing_values(df)\n",
    "    df = remove_duplicates(df)\n",
    "    df = remove_outliers(df, 'adr')\n",
    "    df = fix_inconsistencies(df)\n",
    "    return df\n",
    "\n",
    "# Apply pipeline\n",
    "df_cleaned = clean_dataset(df.copy())\n",
    "print(f\"Shape after pipeline: {df_cleaned.shape}\")"
   ]
  },
  {
   "cell_type": "markdown",
   "id": "c12e3f56",
   "metadata": {},
   "source": [
    "Extension 3: Quality Metrics "
   ]
  },
  {
   "cell_type": "code",
   "execution_count": 150,
   "id": "889450c7",
   "metadata": {},
   "outputs": [
    {
     "name": "stdout",
     "output_type": "stream",
     "text": [
      "Before Cleaning: {'Total Rows': 119390, 'Total Columns': 32, 'Missing Values': np.int64(129425), 'Duplicate Rows': np.int64(31994), 'Zero Guest Rows': 180, 'Outlier ADR Count': 3}\n",
      "After Cleaning: {'Total Rows': 83046, 'Total Columns': 39, 'Missing Values': np.int64(0), 'Duplicate Rows': np.int64(0), 'Zero Guest Rows': 0, 'Outlier ADR Count': 0}\n"
     ]
    },
    {
     "data": {
      "image/png": "[encoded data removed]",
      "text/plain": [
       "<Figure size 1000x500 with 1 Axes>"
      ]
     },
     "metadata": {},
     "output_type": "display_data"
    }
   ],
   "source": [
    "def data_quality_report(df):\n",
    "    report = {\n",
    "        \"Total Rows\": df.shape[0],\n",
    "        \"Total Columns\": df.shape[1],\n",
    "        \"Missing Values\": df.isnull().sum().sum(),\n",
    "        \"Duplicate Rows\": df.duplicated().sum(),\n",
    "        'Zero Guest Rows': int((df['adults'] + df['children'] + df['babies'] == 0).sum()),\n",
    "        \"Outlier ADR Count\": int((df['adr'] > 500).sum())\n",
    "    }\n",
    "    return report\n",
    "\n",
    "# Before Cleaning\n",
    "df_raw = pd.read_csv('C:/Users/ASUS VIVOBOOK S16/Desktop/0317/data/hotel_bookings.csv')\n",
    "before_report = data_quality_report(df_raw)\n",
    "\n",
    "# After Cleaning\n",
    "after_report = data_quality_report(df_cleaned)\n",
    "\n",
    "print(\"Before Cleaning:\", before_report)\n",
    "print(\"After Cleaning:\", after_report)\n",
    "\n",
    "# Visual Comparison\n",
    "metrics_df = pd.DataFrame([before_report, after_report], index=['Before', 'After'])\n",
    "metrics_df.plot(kind='bar', figsize=(10,5))\n",
    "plt.title(\"Data Quality Metrics Before vs After Cleaning\")\n",
    "plt.xticks(rotation=0)\n",
    "plt.show()\n"
   ]
  }
 ],
 "metadata": {
  "kernelspec": {
   "display_name": "streamlit",
   "language": "python",
   "name": "python3"
  },
  "language_info": {
   "codemirror_mode": {
    "name": "ipython",
    "version": 3
   },
   "file_extension": ".py",
   "mimetype": "text/x-python",
   "name": "python",
   "nbconvert_exporter": "python",
   "pygments_lexer": "ipython3",
   "version": "3.12.11"
  }
 },
 "nbformat": 4,
 "nbformat_minor": 5
}
